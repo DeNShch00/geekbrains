{
 "cells": [
  {
   "cell_type": "code",
   "execution_count": 2,
   "metadata": {},
   "outputs": [],
   "source": [
    "%matplotlib inline\n",
    "import matplotlib.pyplot as plt\n",
    "import numpy as np"
   ]
  },
  {
   "cell_type": "code",
   "execution_count": 30,
   "metadata": {},
   "outputs": [
    {
     "name": "stdout",
     "output_type": "stream",
     "text": [
      "0.48752 0.48563\n"
     ]
    }
   ],
   "source": [
    "# теорема сложения вероятностей несовместных событий на примере рулетки\n",
    "sectors = [0] * 37\n",
    "n = 100000\n",
    "for i in range(n):\n",
    "    sectors[int(np.random.uniform(0, 37))] += 1\n",
    "    \n",
    "red = 0\n",
    "for i in range(n):\n",
    "    x = int(np.random.uniform(0, 37))\n",
    "    if 1 <= x <= 18:\n",
    "        red += 1\n",
    "    \n",
    "print(red/n, sum(sectors[1:19])/n)   # относительная частота (вероятность) выпадения красного практически равна сумме относительных частот красных ячеек"
   ]
  },
  {
   "cell_type": "code",
   "execution_count": 26,
   "metadata": {},
   "outputs": [
    {
     "data": {
      "text/plain": [
       "(array([1., 0., 0., 0., 0., 0., 0., 1., 0., 0., 0., 0., 0., 0., 0., 0., 0.,\n",
       "        0., 0., 1., 0., 0., 2., 0., 0., 1., 0., 0., 0., 0., 2., 1., 0., 2.,\n",
       "        3., 1., 1., 1., 0., 2., 1., 2., 3., 3., 2., 0., 4., 0., 3., 1., 2.,\n",
       "        1., 3., 0., 3., 2., 4., 2., 1., 3., 3., 3., 5., 1., 2., 1., 1., 3.,\n",
       "        2., 1., 0., 0., 3., 2., 2., 0., 2., 1., 1., 0., 1., 0., 1., 1., 1.,\n",
       "        0., 1., 0., 0., 0., 1., 1., 0., 0., 0., 0., 0., 0., 0., 1.]),\n",
       " array([2.08722058, 2.14127576, 2.19533094, 2.24938611, 2.30344129,\n",
       "        2.35749646, 2.41155164, 2.46560682, 2.51966199, 2.57371717,\n",
       "        2.62777234, 2.68182752, 2.7358827 , 2.78993787, 2.84399305,\n",
       "        2.89804822, 2.9521034 , 3.00615858, 3.06021375, 3.11426893,\n",
       "        3.1683241 , 3.22237928, 3.27643446, 3.33048963, 3.38454481,\n",
       "        3.43859998, 3.49265516, 3.54671034, 3.60076551, 3.65482069,\n",
       "        3.70887586, 3.76293104, 3.81698622, 3.87104139, 3.92509657,\n",
       "        3.97915174, 4.03320692, 4.0872621 , 4.14131727, 4.19537245,\n",
       "        4.24942762, 4.3034828 , 4.35753798, 4.41159315, 4.46564833,\n",
       "        4.5197035 , 4.57375868, 4.62781386, 4.68186903, 4.73592421,\n",
       "        4.78997938, 4.84403456, 4.89808974, 4.95214491, 5.00620009,\n",
       "        5.06025526, 5.11431044, 5.16836562, 5.22242079, 5.27647597,\n",
       "        5.33053114, 5.38458632, 5.4386415 , 5.49269667, 5.54675185,\n",
       "        5.60080702, 5.6548622 , 5.70891738, 5.76297255, 5.81702773,\n",
       "        5.8710829 , 5.92513808, 5.97919326, 6.03324843, 6.08730361,\n",
       "        6.14135878, 6.19541396, 6.24946914, 6.30352431, 6.35757949,\n",
       "        6.41163466, 6.46568984, 6.51974502, 6.57380019, 6.62785537,\n",
       "        6.68191054, 6.73596572, 6.7900209 , 6.84407607, 6.89813125,\n",
       "        6.95218642, 7.0062416 , 7.06029678, 7.11435195, 7.16840713,\n",
       "        7.2224623 , 7.27651748, 7.33057266, 7.38462783, 7.43868301,\n",
       "        7.49273818]),\n",
       " <a list of 100 Patch objects>)"
      ]
     },
     "execution_count": 26,
     "metadata": {},
     "output_type": "execute_result"
    },
    {
     "data": {
      "image/png": "[encoded data removed]",
      "text/plain": [
       "<Figure size 432x288 with 1 Axes>"
      ]
     },
     "metadata": {
      "needs_background": "light"
     },
     "output_type": "display_data"
    }
   ],
   "source": [
    "# гистограмма 100 выборок суммы 10 случайных чисел (сумма равномерно распределенных величин имеет распределение близкое к нормальному)\n",
    "result = []\n",
    "n = 100\n",
    "for i in range(n):\n",
    "    result.append(sum(np.random.rand(10)))\n",
    "    \n",
    "plt.hist(result, n)"
   ]
  },
  {
   "cell_type": "code",
   "execution_count": null,
   "metadata": {},
   "outputs": [],
   "source": []
  }
 ],
 "metadata": {
  "kernelspec": {
   "display_name": "Python 3",
   "language": "python",
   "name": "python3"
  },
  "language_info": {
   "codemirror_mode": {
    "name": "ipython",
    "version": 3
   },
   "file_extension": ".py",
   "mimetype": "text/x-python",
   "name": "python",
   "nbconvert_exporter": "python",
   "pygments_lexer": "ipython3",
   "version": "3.7.4"
  }
 },
 "nbformat": 4,
 "nbformat_minor": 4
}
