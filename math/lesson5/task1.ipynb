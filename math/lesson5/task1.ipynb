{
 "cells": [
  {
   "cell_type": "code",
   "execution_count": 2,
   "metadata": {},
   "outputs": [],
   "source": [
    "import numpy as np"
   ]
  },
  {
   "cell_type": "code",
   "execution_count": 3,
   "metadata": {},
   "outputs": [
    {
     "name": "stdout",
     "output_type": "stream",
     "text": [
      "[282, 269, 269, 264, 274, 282, 267, 254, 261, 308, 275, 324, 264, 269, 307, 245, 282, 303, 282, 242, 279, 255, 281, 244, 250, 254, 284, 256, 257, 261, 275, 233, 293, 258, 288, 260, 249]\n",
      "[2, 2, 2, 2, 2, 2, 2, 2, 2, 3, 2, 3, 2, 2, 3, 2, 2, 3, 2, 2, 2, 2, 2, 2, 2, 2, 2, 2, 2, 2, 2, 2, 2, 2, 2, 2, 2]\n"
     ]
    }
   ],
   "source": [
    "# моделирование выпадения поля в рултеке с учетом зеро\n",
    "sectors = [0] * 37\n",
    "n = 10000\n",
    "for i in range(n):\n",
    "    sectors[int(np.random.uniform(0, 37))] += 1\n",
    "    \n",
    "print(sectors)\n",
    "\n",
    "# относительная частота (стремится к вероятности при ьольших n) выпадения поля в рулетке в процентах (должна быть 2.7%)\n",
    "print([int((x/n) * 100) for x in sectors])"
   ]
  },
  {
   "cell_type": "code",
   "execution_count": null,
   "metadata": {},
   "outputs": [],
   "source": []
  },
  {
   "cell_type": "code",
   "execution_count": null,
   "metadata": {},
   "outputs": [],
   "source": []
  }
 ],
 "metadata": {
  "kernelspec": {
   "display_name": "Python 3",
   "language": "python",
   "name": "python3"
  },
  "language_info": {
   "codemirror_mode": {
    "name": "ipython",
    "version": 3
   },
   "file_extension": ".py",
   "mimetype": "text/x-python",
   "name": "python",
   "nbconvert_exporter": "python",
   "pygments_lexer": "ipython3",
   "version": "3.7.4"
  }
 },
 "nbformat": 4,
 "nbformat_minor": 4
}
