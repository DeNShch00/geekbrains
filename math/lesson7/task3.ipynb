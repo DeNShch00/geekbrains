{
 "cells": [
  {
   "cell_type": "code",
   "execution_count": 1,
   "metadata": {},
   "outputs": [],
   "source": [
    "import numpy as np"
   ]
  },
  {
   "cell_type": "code",
   "execution_count": 14,
   "metadata": {
    "scrolled": true
   },
   "outputs": [
    {
     "name": "stdout",
     "output_type": "stream",
     "text": [
      "M= [[-48.  -6.  32.]\n",
      " [ -6. -12.  -6.]\n",
      " [ 12.  -6.  -8.]]\n",
      "A*= [[-48.   6.  32.]\n",
      " [  6. -12.   6.]\n",
      " [ 12.   6.  -8.]]\n",
      "A*(T)= [[-48.   6.  12.]\n",
      " [  6. -12.   6.]\n",
      " [ 32.   6.  -8.]]\n",
      "A(-1)= [[-0.8         0.1         0.2       ]\n",
      " [ 0.1        -0.2         0.1       ]\n",
      " [ 0.53333333  0.1        -0.13333333]]\n"
     ]
    }
   ],
   "source": [
    "# рассчет обратной матрицы \"на бумаге\"\n",
    "# 1 2 3\n",
    "# 4 0 6\n",
    "# 7 8 9\n",
    "\n",
    "# M\n",
    "m = np.array([[0-6*8, 4*9-6*7, 4*8], [2*9-3*8, 1*9-3*7, 1*8-2*7], [2*6, 1*6-3*4, 0-2*4]], float)\n",
    "print('M=', m)\n",
    "\n",
    "# A*\n",
    "for i in range(3):\n",
    "    for j in range(3):\n",
    "        m[i, j] *= 1 if (i + j) % 2 == 0 else -1\n",
    "        \n",
    "print('A*=', m)\n",
    "\n",
    "# A*(T)\n",
    "m = m.transpose()\n",
    "print('A*(T)=', m)\n",
    "\n",
    "# det\n",
    "det = 60.0 # уже рассчитан для этой матрицы в зададнии 2\n",
    "\n",
    "# A(-1) = A*(T)/det\n",
    "for i in range(3):\n",
    "    for j in range(3):\n",
    "        m[i, j] /= det\n",
    "        \n",
    "print('A(-1)=', m)"
   ]
  },
  {
   "cell_type": "code",
   "execution_count": 15,
   "metadata": {},
   "outputs": [
    {
     "name": "stdout",
     "output_type": "stream",
     "text": [
      "[[-0.8         0.1         0.2       ]\n",
      " [ 0.1        -0.2         0.1       ]\n",
      " [ 0.53333333  0.1        -0.13333333]]\n"
     ]
    }
   ],
   "source": [
    "# проверка через расчет численным методом\n",
    "a = np.array([[1,2,3], [4,0,6], [7,8,9]])\n",
    "p = np.linalg.inv(a)\n",
    "print(p)"
   ]
  },
  {
   "cell_type": "code",
   "execution_count": null,
   "metadata": {},
   "outputs": [],
   "source": []
  }
 ],
 "metadata": {
  "kernelspec": {
   "display_name": "Python 3",
   "language": "python",
   "name": "python3"
  },
  "language_info": {
   "codemirror_mode": {
    "name": "ipython",
    "version": 3
   },
   "file_extension": ".py",
   "mimetype": "text/x-python",
   "name": "python",
   "nbconvert_exporter": "python",
   "pygments_lexer": "ipython3",
   "version": "3.7.0"
  }
 },
 "nbformat": 4,
 "nbformat_minor": 4
}
