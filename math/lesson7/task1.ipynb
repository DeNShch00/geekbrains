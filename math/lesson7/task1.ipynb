{
 "cells": [
  {
   "cell_type": "code",
   "execution_count": 1,
   "metadata": {},
   "outputs": [],
   "source": [
    "import numpy as np"
   ]
  },
  {
   "cell_type": "code",
   "execution_count": 2,
   "metadata": {},
   "outputs": [
    {
     "name": "stdout",
     "output_type": "stream",
     "text": [
      "[[1 2 3 4 5 6 7]]\n",
      "(1, 7)\n"
     ]
    }
   ],
   "source": [
    "a = np.array([[1,2,3,4,5,6,7]])\n",
    "print(a)\n",
    "print(a.shape)"
   ]
  },
  {
   "cell_type": "code",
   "execution_count": 3,
   "metadata": {},
   "outputs": [
    {
     "name": "stdout",
     "output_type": "stream",
     "text": [
      "[[ 2  4  6  8 10 12 14]]\n"
     ]
    }
   ],
   "source": [
    "b = a * 2\n",
    "print(b)"
   ]
  },
  {
   "cell_type": "code",
   "execution_count": 4,
   "metadata": {},
   "outputs": [
    {
     "name": "stdout",
     "output_type": "stream",
     "text": [
      "[[2 3 4 5 6 7 8]]\n"
     ]
    }
   ],
   "source": [
    "c = a + 1\n",
    "print(c)"
   ]
  },
  {
   "cell_type": "code",
   "execution_count": 5,
   "metadata": {},
   "outputs": [
    {
     "name": "stdout",
     "output_type": "stream",
     "text": [
      "[[ 4  7 10 13 16 19 22]]\n"
     ]
    }
   ],
   "source": [
    "d = c + b\n",
    "print(d)"
   ]
  },
  {
   "cell_type": "code",
   "execution_count": 6,
   "metadata": {},
   "outputs": [
    {
     "name": "stdout",
     "output_type": "stream",
     "text": [
      "[[0 1 2 3 4 5 6]]\n"
     ]
    }
   ],
   "source": [
    "d = b - c\n",
    "print(d)"
   ]
  },
  {
   "cell_type": "code",
   "execution_count": 7,
   "metadata": {},
   "outputs": [
    {
     "name": "stdout",
     "output_type": "stream",
     "text": [
      "[[0]\n",
      " [1]\n",
      " [2]\n",
      " [3]\n",
      " [4]\n",
      " [5]\n",
      " [6]]\n",
      "(7, 1)\n"
     ]
    }
   ],
   "source": [
    "f = d.transpose()\n",
    "print(f)\n",
    "print(f.shape)"
   ]
  },
  {
   "cell_type": "code",
   "execution_count": 8,
   "metadata": {},
   "outputs": [
    {
     "name": "stdout",
     "output_type": "stream",
     "text": [
      "[[ 0  0  0  0  0  0  0]\n",
      " [ 0  1  2  3  4  5  6]\n",
      " [ 0  2  4  6  8 10 12]\n",
      " [ 0  3  6  9 12 15 18]\n",
      " [ 0  4  8 12 16 20 24]\n",
      " [ 0  5 10 15 20 25 30]\n",
      " [ 0  6 12 18 24 30 36]]\n",
      "(1, 7) (7, 1)\n"
     ]
    }
   ],
   "source": [
    "g = np.dot(f, d)\n",
    "print(g)\n",
    "print(d.shape, f.shape)"
   ]
  },
  {
   "cell_type": "code",
   "execution_count": 9,
   "metadata": {},
   "outputs": [
    {
     "name": "stdout",
     "output_type": "stream",
     "text": [
      "[[1. 1. 1. 1. 1. 1. 1.]]\n"
     ]
    }
   ],
   "source": [
    "e = np.ones((1, 7))\n",
    "print(e)"
   ]
  },
  {
   "cell_type": "code",
   "execution_count": 10,
   "metadata": {},
   "outputs": [
    {
     "name": "stdout",
     "output_type": "stream",
     "text": [
      "[[0. 0. 0. 0. 0. 0. 0.]\n",
      " [1. 1. 1. 1. 1. 1. 1.]\n",
      " [2. 2. 2. 2. 2. 2. 2.]\n",
      " [3. 3. 3. 3. 3. 3. 3.]\n",
      " [4. 4. 4. 4. 4. 4. 4.]\n",
      " [5. 5. 5. 5. 5. 5. 5.]\n",
      " [6. 6. 6. 6. 6. 6. 6.]]\n",
      "(1, 7) (7, 1)\n"
     ]
    }
   ],
   "source": [
    "r = np.dot(f, e)\n",
    "print(r)\n",
    "print(e.shape, f.shape)"
   ]
  },
  {
   "cell_type": "code",
   "execution_count": 11,
   "metadata": {},
   "outputs": [
    {
     "name": "stdout",
     "output_type": "stream",
     "text": [
      "[[0. 0. 0. 0. 0. 0. 0.]]\n"
     ]
    }
   ],
   "source": [
    "q = np.zeros((1, 7))\n",
    "print(q)"
   ]
  },
  {
   "cell_type": "code",
   "execution_count": 12,
   "metadata": {},
   "outputs": [
    {
     "name": "stdout",
     "output_type": "stream",
     "text": [
      "[[0. 0. 0. 0. 0. 0. 0.]\n",
      " [0. 0. 0. 0. 0. 0. 0.]\n",
      " [0. 0. 0. 0. 0. 0. 0.]\n",
      " [0. 0. 0. 0. 0. 0. 0.]\n",
      " [0. 0. 0. 0. 0. 0. 0.]\n",
      " [0. 0. 0. 0. 0. 0. 0.]\n",
      " [0. 0. 0. 0. 0. 0. 0.]]\n",
      "(1, 7) (7, 1)\n"
     ]
    }
   ],
   "source": [
    "w = np.dot(f, q)\n",
    "print(w)\n",
    "print(q.shape, f.shape)"
   ]
  },
  {
   "cell_type": "code",
   "execution_count": 13,
   "metadata": {},
   "outputs": [
    {
     "name": "stdout",
     "output_type": "stream",
     "text": [
      "[[1. 0. 0. 0. 0.]\n",
      " [0. 1. 0. 0. 0.]\n",
      " [0. 0. 1. 0. 0.]\n",
      " [0. 0. 0. 1. 0.]\n",
      " [0. 0. 0. 0. 1.]]\n"
     ]
    }
   ],
   "source": [
    "# вычисление (5Е)–1, где Е – единичная матрица размера 5х5. \"на бумажке\"\n",
    "\n",
    "# 5E\n",
    "# 5 0 0 0 0\n",
    "# 0 5 0 0 0\n",
    "# 0 0 5 0 0\n",
    "# 0 0 0 5 0\n",
    "# 0 0 0 0 5\n",
    "\n",
    "# 5E обратная\n",
    "# 0.2 0 0 0 0\n",
    "# 0 0.2 0 0 0\n",
    "# 0 0 0.2 0 0\n",
    "# 0 0 0 0.2 0\n",
    "# 0 0 0 0 0.2\n",
    "\n",
    "# проверка численным методом\n",
    "e1 = np.array([[5,0,0,0,0], [0,5,0,0,0], [0,0,5,0,0], [0,0,0,5,0], [0,0,0,0,5]], float)\n",
    "e2 = np.array([[0.2,0,0,0,0], [0,0.2,0,0,0], [0,0,0.2,0,0], [0,0,0,0.2,0], [0,0,0,0,0.2]], float)\n",
    "print(np.dot(e1, e2))"
   ]
  },
  {
   "cell_type": "code",
   "execution_count": null,
   "metadata": {},
   "outputs": [],
   "source": []
  },
  {
   "cell_type": "code",
   "execution_count": null,
   "metadata": {},
   "outputs": [],
   "source": []
  }
 ],
 "metadata": {
  "kernelspec": {
   "display_name": "Python 3",
   "language": "python",
   "name": "python3"
  },
  "language_info": {
   "codemirror_mode": {
    "name": "ipython",
    "version": 3
   },
   "file_extension": ".py",
   "mimetype": "text/x-python",
   "name": "python",
   "nbconvert_exporter": "python",
   "pygments_lexer": "ipython3",
   "version": "3.7.0"
  }
 },
 "nbformat": 4,
 "nbformat_minor": 4
}
