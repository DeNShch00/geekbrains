{
 "cells": [
  {
   "cell_type": "code",
   "execution_count": 1,
   "metadata": {},
   "outputs": [],
   "source": [
    "import numpy as np"
   ]
  },
  {
   "cell_type": "code",
   "execution_count": 2,
   "metadata": {},
   "outputs": [
    {
     "name": "stdout",
     "output_type": "stream",
     "text": [
      "35\n",
      "-7\n",
      "-2\n",
      "228.5\n"
     ]
    }
   ],
   "source": [
    "# вычмсление смешанного произведения векторов a=(1,5,0), b=(2,8,7) и c=(7,1.5, 3) \"на бумажке\"\n",
    "\n",
    "# вычислим векторное произведение a и b через определитель\n",
    "# 1 0 0\n",
    "# 1 5 0\n",
    "# 2 8 7\n",
    "\n",
    "detX = 1 * (5*7 - 0*8) - 0 * (1*7 - 0*2) + 0 * (1*8 - 5*2)\n",
    "print(detX)\n",
    "\n",
    "# 0 1 0\n",
    "# 1 5 0\n",
    "# 2 8 7\n",
    "\n",
    "detY = 0 * (5*7 - 0*8) - 1 * (1*7 - 0*2) + 0 * (1*8 - 5*2)\n",
    "print(detY)\n",
    "\n",
    "# 0 0 1\n",
    "# 1 5 0\n",
    "# 2 8 7\n",
    "\n",
    "detZ = 0 * (5*7 - 0*8) - 0 * (1*7 - 0*2) + 1 * (1*8 - 5*2)\n",
    "print(detZ)\n",
    "\n",
    "# вычислим результат как скалярное произведение вектора (detX, detY, detZ) и с\n",
    "r = detX*7 + detY*1.5 + detZ*3\n",
    "print(r)"
   ]
  },
  {
   "cell_type": "code",
   "execution_count": 3,
   "metadata": {},
   "outputs": [
    {
     "name": "stdout",
     "output_type": "stream",
     "text": [
      "[35. -7. -2.]\n"
     ]
    },
    {
     "data": {
      "text/plain": [
       "228.5"
      ]
     },
     "execution_count": 3,
     "metadata": {},
     "output_type": "execute_result"
    }
   ],
   "source": [
    "# проверка численным методом\n",
    "a = np.array([1, 5, 0], float)\n",
    "b = np.array([2, 8, 7], float)\n",
    "c = np.array([7, 1.5, 3], float)\n",
    "v = np.cross(a, b)\n",
    "print(v)\n",
    "np.inner(v, c)"
   ]
  },
  {
   "cell_type": "code",
   "execution_count": null,
   "metadata": {},
   "outputs": [],
   "source": []
  }
 ],
 "metadata": {
  "kernelspec": {
   "display_name": "Python 3",
   "language": "python",
   "name": "python3"
  },
  "language_info": {
   "codemirror_mode": {
    "name": "ipython",
    "version": 3
   },
   "file_extension": ".py",
   "mimetype": "text/x-python",
   "name": "python",
   "nbconvert_exporter": "python",
   "pygments_lexer": "ipython3",
   "version": "3.7.0"
  }
 },
 "nbformat": 4,
 "nbformat_minor": 4
}
